{
 "cells": [
  {
   "cell_type": "markdown",
   "metadata": {},
   "source": [
    "## Python 2025 - Actividad 2\n",
    "### Objetivos\n",
    "* Resolver problemas más complejos utilizando estructuras de datos adecuadas.\n",
    "* Aplicar correctamente el uso de Jupyter Notebook.\n",
    "* Desarrollar soluciones considerando dependencias y buenas prácticas.\n",
    "### Recomendación\n",
    "* Realizar la práctica en un entorno de Jupyter Notebook.\n",
    "\n",
    "### Ejercicios"
   ]
  },
  {
   "cell_type": "markdown",
   "metadata": {},
   "source": [
    "1. Análisis del Zen de Python\n"
   ]
  },
  {
   "cell_type": "code",
   "execution_count": null,
   "metadata": {},
   "outputs": [
    {
     "name": "stdout",
     "output_type": "stream",
     "text": [
      "Beautiful is better than ugly.\n",
      "Explicit is better than implicit.\n",
      "Simple is better than complex.\n",
      "Complex is better than complicated.\n",
      "Flat is better than nested.\n",
      "Sparse is better than dense.\n",
      "Unless explicitly silenced.\n",
      "Now is better than never.\n",
      "Namespaces are one honking great idea -- let's do more of those!\n"
     ]
    }
   ],
   "source": [
    "zen_lines == \"\"\"Beautiful is better than ugly.\n",
    "Explicit is better than implicit.\n",
    "Simple is better than complex.\n",
    "Complex is better than complicated.\n",
    "Flat is better than nested.\n",
    "Sparse is better than dense.\n",
    "Readability counts.\n",
    "Special cases aren't special enough to break the rules.\n",
    "Although practicality beats purity.\n",
    "Errors should never pass silently.\n",
    "Unless explicitly silenced.\n",
    "In the face of ambiguity, refuse the temptation to guess.\n",
    "There should be one-- and preferably only one --obvious way to do it.\n",
    "Although that way may not be obvious at first unless you're Dutch.\n",
    "Now is better than never.\n",
    "Although never is often better than *right* now.\n",
    "If the implementation is hard to explain, it's a bad idea.\n",
    "If the implementation is easy to explain, it may be a good idea.\n",
    "Namespaces are one honking great idea -- let's do more of those!\"\"\"\n",
    "\n",
    "# Filtrar líneas del Zen de Python cuya segunda palabra comience con una vocal\n",
    "zen_lines = zen_text.split(\"\\n\")\n",
    "for line in zen_lines:\n",
    "    words = line.split()\n",
    "    if len(words) > 1 and words[1][0].lower() in \"aeiou\":\n",
    "        print(line)"
   ]
  },
  {
   "cell_type": "markdown",
   "metadata": {},
   "source": [
    "2. Título más largo"
   ]
  },
  {
   "cell_type": "code",
   "execution_count": null,
   "metadata": {},
   "outputs": [
    {
     "name": "stdout",
     "output_type": "stream",
     "text": [
      "El título más largo es: Jugando al nuevo FPS del momento con amigos\n"
     ]
    }
   ],
   "source": [
    "titles = [\n",
    "\"Speedrun de Super Mario en tiempo récord\",\n",
    "\"Charla sobre desarrollo de videojuegos\",\n",
    "\"Jugando al nuevo FPS del momento con amigos\",\n",
    "\"Música en vivo: improvisaciones al piano\"\n",
    "]\n",
    "\n",
    "# Encontrar el título con más palabras\n",
    "titulo_mas_largo = max(titles, key=lambda titulo: len(titulo.split()))\n",
    "\n",
    "# Mostrar el título en pantalla\n",
    "print(\"El título más largo es:\", titulo_mas_largo)"
   ]
  },
  {
   "cell_type": "markdown",
   "metadata": {},
   "source": [
    "3. Código de conducta"
   ]
  },
  {
   "cell_type": "code",
   "execution_count": 42,
   "metadata": {},
   "outputs": [
    {
     "name": "stdout",
     "output_type": "stream",
     "text": [
      "Reglas que contienen la palabra clave:\n",
      "- Respeta a los demás. No se permiten insultos ni lenguaje\n",
      "- ofensivo.\n",
      "- Evita el spam. No publiques enlaces sospechosos o repetitivos.\n",
      "- No compartas información personal.\n",
      "- Usa los canales adecuados para cada tema.\n",
      "- Sigue las instrucciones de los moderadores.\n"
     ]
    }
   ],
   "source": [
    "rules = \"\"\"Respeta a los demás. No se permiten insultos ni lenguaje\n",
    "ofensivo.\n",
    "Evita el spam. No publiques enlaces sospechosos o repetitivos.\n",
    "No compartas información personal.\n",
    "Usa los canales adecuados para cada tema.\n",
    "Sigue las instrucciones de los moderadores.\"\"\"\n",
    "\n",
    "# Dividir las reglas en una lista de líneas\n",
    "lista_reglas = rules.split(\"\\n\")\n",
    "\n",
    "# Solicitar una palabra clave al usuario\n",
    "palabra_clave = input(\"Introduce una palabra clave: \").lower()\n",
    "\n",
    "# Filtrar las reglas que contienen la palabra clave\n",
    "reglas_filtradas = [regla for regla in lista_reglas if palabra_clave in regla.lower()]\n",
    "\n",
    "# Imprimir las reglas que contienen la palabra clave\n",
    "if reglas_filtradas:\n",
    "    print(\"Reglas que contienen la palabra clave:\")\n",
    "    for regla in reglas_filtradas:\n",
    "        print(\"-\", regla)\n",
    "else:\n",
    "    print(\"No se encontraron reglas con esa palabra clave.\")"
   ]
  },
  {
   "cell_type": "markdown",
   "metadata": {},
   "source": [
    "4. Validación de nombre de usuario"
   ]
  },
  {
   "cell_type": "code",
   "execution_count": 43,
   "metadata": {},
   "outputs": [
    {
     "name": "stdout",
     "output_type": "stream",
     "text": [
      "El nombre de usuario debe tener al menos 5 caracteres.\n"
     ]
    }
   ],
   "source": [
    "import re\n",
    "\n",
    "def validar_usuario(usuario):\n",
    "    # Verificar longitud mínima de 5 caracteres\n",
    "    if len(usuario) < 5:\n",
    "        return \"El nombre de usuario debe tener al menos 5 caracteres.\"\n",
    "    \n",
    "    # Verificar si contiene al menos un número\n",
    "    if not any(char.isdigit() for char in usuario):\n",
    "        return \"El nombre de usuario debe contener al menos un número.\"\n",
    "    \n",
    "    # Verificar si contiene al menos una letra mayúscula\n",
    "    if not any(char.isupper() for char in usuario):\n",
    "        return \"El nombre de usuario debe contener al menos una letra mayúscula.\"\n",
    "    \n",
    "    # Verificar si solo contiene letras y números\n",
    "    # El módulo re en Python se utiliza para trabajar con expresiones regulares.\n",
    "    if not re.match(\"^[A-Za-z0-9]+$\", usuario):\n",
    "        return \"El nombre de usuario solo puede contener letras y números.\"\n",
    "    \n",
    "    return \"El nombre de usuario no cumple con los requisitos.\"\n",
    "\n",
    "# Ejemplo de uso\n",
    "usuario = input(\"Introduce un nombre de usuario: \")\n",
    "resultado = validar_usuario(usuario)\n",
    "print(resultado)"
   ]
  },
  {
   "cell_type": "markdown",
   "metadata": {},
   "source": [
    "5. Clasificación de velocidad de reacción en un juego"
   ]
  },
  {
   "cell_type": "code",
   "execution_count": 44,
   "metadata": {},
   "outputs": [
    {
     "ename": "ValueError",
     "evalue": "invalid literal for int() with base 10: ''",
     "output_type": "error",
     "traceback": [
      "\u001b[31m---------------------------------------------------------------------------\u001b[39m",
      "\u001b[31mValueError\u001b[39m                                Traceback (most recent call last)",
      "\u001b[36mCell\u001b[39m\u001b[36m \u001b[39m\u001b[32mIn[44]\u001b[39m\u001b[32m, line 2\u001b[39m\n\u001b[32m      1\u001b[39m \u001b[38;5;66;03m# Solicitar el tiempo de reacción al usuario\u001b[39;00m\n\u001b[32m----> \u001b[39m\u001b[32m2\u001b[39m tiempo_reaccion = \u001b[38;5;28;43mint\u001b[39;49m\u001b[43m(\u001b[49m\u001b[38;5;28;43minput\u001b[39;49m\u001b[43m(\u001b[49m\u001b[33;43m\"\u001b[39;49m\u001b[33;43mIntroduce el tiempo de reacción en milisegundos: \u001b[39;49m\u001b[33;43m\"\u001b[39;49m\u001b[43m)\u001b[49m\u001b[43m)\u001b[49m\n\u001b[32m      4\u001b[39m \u001b[38;5;66;03m# Clasificar el tiempo de reacción\u001b[39;00m\n\u001b[32m      5\u001b[39m \u001b[38;5;28;01mif\u001b[39;00m tiempo_reaccion < \u001b[32m200\u001b[39m:\n",
      "\u001b[31mValueError\u001b[39m: invalid literal for int() with base 10: ''"
     ]
    }
   ],
   "source": [
    "# Solicitar el tiempo de reacción al usuario\n",
    "tiempo_reaccion = int(input(\"Introduce el tiempo de reacción en milisegundos: \"))\n",
    "\n",
    "# Clasificar el tiempo de reacción\n",
    "if tiempo_reaccion < 200:\n",
    "    clasificacion = \"Rápido\"\n",
    "elif 200 <= tiempo_reaccion <= 500:\n",
    "    clasificacion = \"Normal\"\n",
    "else:\n",
    "    clasificacion = \"Lento\"\n",
    "\n",
    "# Mostrar la clasificación\n",
    "print(f\"Categoría: {clasificacion}.\")"
   ]
  },
  {
   "cell_type": "markdown",
   "metadata": {},
   "source": [
    "6. Análisis de descripciones de una plataforma de stream"
   ]
  },
  {
   "cell_type": "code",
   "execution_count": null,
   "metadata": {},
   "outputs": [],
   "source": [
    "descriptions = [\n",
    "    \"Streaming de música en vivo con covers y composiciones\",\n",
    "    \"Charla interactiva con la audiencia sobre series y películas\",\n",
    "    \"Jugamos a juegos retro y charlamos sobre su historia\",\n",
    "    \"Exploramos la mejor música de los 80s y 90s\",\n",
    "    \"Programa de entretenimiento con noticias y curiosidades del mundo gamer\",\n",
    "    \"Sesión de charla con invitados especiales del mundo del streaming\",\n",
    "    \"Música en directo con improvisaciones y peticiones del chat\",\n",
    "    \"Un espacio para charlar relajada sobre tecnología y cultura digital\",\n",
    "    \"Exploramos el impacto de la música en los videojuegos clásicos\"\n",
    "]\n",
    "\n",
    "# Palabras clave a buscar\n",
    "keywords = [\"entretenimiento\", \"música\", \"charla\"]\n",
    "\n",
    "# Contar menciones de cada palabra clave\n",
    "conteo = {keyword: sum(keyword in description.lower() for description in descriptions) for keyword in keywords}\n",
    "\n",
    "# Mostrar resultados\n",
    "for keyword, count in conteo.items():\n",
    "    print(f\"Menciones de '{keyword}': {count}\")"
   ]
  },
  {
   "cell_type": "markdown",
   "metadata": {},
   "source": [
    "7. Generador de códigos de descuento"
   ]
  },
  {
   "cell_type": "code",
   "execution_count": null,
   "metadata": {},
   "outputs": [],
   "source": [
    "import random\n",
    "import string\n",
    "from datetime import datetime\n",
    "\n",
    "# Solicitar el nombre del usuario\n",
    "usuario = input(\"Introduce el nombre del usuario (máximo 15 caracteres): \").upper()\n",
    "\n",
    "# Validar que el nombre no exceda los 15 caracteres\n",
    "if len(usuario) > 15:\n",
    "    print(\"El nombre de usuario no debe exceder los 15 caracteres.\")\n",
    "else:\n",
    "    # Obtener la fecha actual en formato YYYYMMDD\n",
    "    fecha_actual = datetime.now().strftime(\"%Y%m%d\")\n",
    "    \n",
    "    # Generar una cadena aleatoria de 10 caracteres (letras y números)\n",
    "    caracteres_aleatorios = ''.join(random.choices(string.ascii_uppercase + string.digits, k=10))\n",
    "    \n",
    "    # Crear el código de descuento\n",
    "    codigo_descuento = f\"{usuario}-{fecha_actual}-{caracteres_aleatorios}\"\n",
    "    \n",
    "    # Mostrar el código de descuento\n",
    "    print(\"Código de descuento:\", codigo_descuento)"
   ]
  },
  {
   "cell_type": "markdown",
   "metadata": {},
   "source": [
    "8. Identificación de anagramas"
   ]
  },
  {
   "cell_type": "code",
   "execution_count": null,
   "metadata": {},
   "outputs": [],
   "source": [
    "# Solicitar las palabras al usuario\n",
    "palabra1 = input(\"Ingrese la primera palabra: \").lower()\n",
    "palabra2 = input(\"Ingrese la segunda palabra: \").lower()\n",
    "\n",
    "# Verificar si son anagramas\n",
    "if sorted(palabra1) == sorted(palabra2):\n",
    "    print(\"Son anagramas.\")\n",
    "else:\n",
    "    print(\"No son anagramas.\")"
   ]
  },
  {
   "cell_type": "markdown",
   "metadata": {},
   "source": [
    "9. Limpieza de Datos para un Sistema de Clientes\n"
   ]
  },
  {
   "cell_type": "code",
   "execution_count": null,
   "metadata": {},
   "outputs": [],
   "source": [
    "# Lista inicial de clientes\n",
    "clients = [\n",
    "    \" Ana López \", \"Pedro Gómez\", \"maria martínez\", \"Pedro Gómez \", \"\",\n",
    "    \" Luis Rodríguez \", None, \"ana lópez\", \"JUAN PÉREZ\", \"MARTA SUÁREZ\",\n",
    "    \"luis rodríguez\", \"maría martínez \", \" claudia torres\", \"CLAUDIA TORRES\",\n",
    "    \" \", \"pedro gómez\", \"Juan Pérez\", None, \"Ricardo Fernández\", \"LAURA RAMOS\",\n",
    "    \"carlos mendes\", \"RICARDO FERNÁNDEZ \", \" Laura ramos\", \"CARLOS MENDES\",\n",
    "    \"alejandro gonzález\", \" ALEJANDRO GONZÁLEZ \", \"Patricia Vega\",\n",
    "    \"patricia VEGA\", \"Andrés Ocampo\", \" andrés ocampo\", \"Monica Herrera\",\n",
    "    \"MONICA HERRERA \", \"gabriela ruíz\", \"Gabriela Ruíz\", \"sandra morales\",\n",
    "    \"SANDRA MORALES\", \"miguel ángel\", \"Miguel Ángel \", \" Damián Castillo\",\n",
    "    \"Damián Castillo \", None, \"\", \" \"\n",
    "]\n",
    "\n",
    "# Función para limpiar y estandarizar la lista de clientes\n",
    "def limpiar_clientes(clientes):\n",
    "    # Eliminar valores nulos y vacíos\n",
    "    clientes = [cliente for cliente in clientes if cliente and cliente.strip()]\n",
    "    # Eliminar espacios extra y convertir a formato título\n",
    "    clientes = [cliente.strip().title() for cliente in clientes]\n",
    "    # Eliminar duplicados\n",
    "    clientes = list(set(clientes))\n",
    "    # Ordenar alfabéticamente\n",
    "    clientes.sort()\n",
    "    return clientes\n",
    "\n",
    "# Limpiar la lista de clientes\n",
    "clientes_limpios = limpiar_clientes(clients)\n",
    "\n",
    "# Mostrar la lista limpia\n",
    "print(\"Lista limpia de clientes:\")\n",
    "print(clientes_limpios)"
   ]
  },
  {
   "cell_type": "markdown",
   "metadata": {},
   "source": [
    "10. Simulación de partidas y ranking en shooter online"
   ]
  },
  {
   "cell_type": "code",
   "execution_count": null,
   "metadata": {},
   "outputs": [],
   "source": [
    "# Sistema de puntuación\n",
    "PUNTOS = {\n",
    "    'kill': 3,\n",
    "    'assist': 1,\n",
    "    'death': -1\n",
    "}\n",
    "\n",
    "# Datos de las rondas\n",
    "rounds = [\n",
    "    {\n",
    "        'Shadow': {'kills': 2, 'assists': 1, 'deaths': True},\n",
    "        'Blaze': {'kills': 1, 'assists': 0, 'deaths': False},\n",
    "        'Viper': {'kills': 1, 'assists': 2, 'deaths': True},\n",
    "        'Frost': {'kills': 0, 'assists': 1, 'deaths': False},\n",
    "        'Reaper': {'kills': 1, 'assists': 1, 'deaths': False}\n",
    "    },\n",
    "    {\n",
    "        'Shadow': {'kills': 0, 'assists': 2, 'deaths': False},\n",
    "        'Blaze': {'kills': 2, 'assists': 0, 'deaths': True},\n",
    "        'Viper': {'kills': 1, 'assists': 1, 'deaths': False},\n",
    "        'Frost': {'kills': 2, 'assists': 1, 'deaths': True},\n",
    "        'Reaper': {'kills': 0, 'assists': 1, 'deaths': False}\n",
    "    },\n",
    "    {\n",
    "        'Shadow': {'kills': 1, 'assists': 0, 'deaths': False},\n",
    "        'Blaze': {'kills': 2, 'assists': 2, 'deaths': True},\n",
    "        'Viper': {'kills': 1, 'assists': 1, 'deaths': True},\n",
    "        'Frost': {'kills': 0, 'assists': 1, 'deaths': False},\n",
    "        'Reaper': {'kills': 1, 'assists': 1, 'deaths': False}\n",
    "    },\n",
    "    {\n",
    "        'Shadow': {'kills': 2, 'assists': 1, 'deaths': False},\n",
    "        'Blaze': {'kills': 1, 'assists': 0, 'deaths': True},\n",
    "        'Viper': {'kills': 0, 'assists': 2, 'deaths': False},\n",
    "        'Frost': {'kills': 1, 'assists': 1, 'deaths': True},\n",
    "        'Reaper': {'kills': 1, 'assists': 1, 'deaths': False}\n",
    "    },\n",
    "    {\n",
    "        'Shadow': {'kills': 1, 'assists': 2, 'deaths': True},\n",
    "        'Blaze': {'kills': 0, 'assists': 1, 'deaths': False},\n",
    "        'Viper': {'kills': 2, 'assists': 0, 'deaths': True},\n",
    "        'Frost': {'kills': 1, 'assists': 1, 'deaths': False},\n",
    "        'Reaper': {'kills': 1, 'assists': 1, 'deaths': True}\n",
    "    }\n",
    "]\n",
    "\n",
    "# Inicializar estadísticas de los jugadores\n",
    "estadisticas = {}\n",
    "\n",
    "# Procesar cada ronda\n",
    "for ronda, datos in enumerate(rounds, start=1):\n",
    "    print(f\"Ranking ronda {ronda}:\")\n",
    "    \n",
    "    # Actualizar estadísticas\n",
    "    for jugador, acciones in datos.items():\n",
    "        if jugador not in estadisticas:\n",
    "            estadisticas[jugador] = {'kills': 0, 'assists': 0, 'deaths': 0, 'mvps': 0, 'points': 0}\n",
    "        \n",
    "        estadisticas[jugador]['kills'] += acciones['kills']\n",
    "        estadisticas[jugador]['assists'] += acciones['assists']\n",
    "        estadisticas[jugador]['deaths'] += 1 if acciones['deaths'] else 0\n",
    "        estadisticas[jugador]['points'] += (\n",
    "            acciones['kills'] * PUNTOS['kill'] +\n",
    "            acciones['assists'] * PUNTOS['assist'] +\n",
    "            (PUNTOS['death'] if acciones['deaths'] else 0)\n",
    "        )\n",
    "    \n",
    "    # Determinar el MVP de la ronda\n",
    "    mvp = max(datos.keys(), key=lambda j: (\n",
    "        datos[j]['kills'] * PUNTOS['kill'] +\n",
    "        datos[j]['assists'] * PUNTOS['assist'] +\n",
    "        (PUNTOS['death'] if datos[j]['deaths'] else 0)\n",
    "    ))\n",
    "    estadisticas[mvp]['mvps'] += 1\n",
    "    \n",
    "    # Ordenar y mostrar el ranking\n",
    "    ranking = sorted(estadisticas.items(), key=lambda x: x[1]['points'], reverse=True)\n",
    "    for jugador, stats in ranking:\n",
    "        print(f\"{jugador}: Kills={stats['kills']}, Asistencias={stats['assists']}, Muertes={stats['deaths']}, MVPs={stats['mvps']}, Puntos={stats['points']}\")\n",
    "    print()\n",
    "\n",
    "# Mostrar el ranking final\n",
    "print(\"Ranking final:\")\n",
    "ranking_final = sorted(estadisticas.items(), key=lambda x: x[1]['points'], reverse=True)\n",
    "print(\"Jugador\\tKills\\tAsistencias\\tMuertes\\tMVPs\\tPuntos\")\n",
    "print(\"--------------------------------------------------------\")\n",
    "for jugador, stats in ranking_final:\n",
    "    print(f\"{jugador}\\t{stats['kills']}\\t{stats['assists']}\\t{stats['deaths']}\\t{stats['mvps']}\\t{stats['points']}\")"
   ]
  }
 ],
 "metadata": {
  "kernelspec": {
   "display_name": "Python 3",
   "language": "python",
   "name": "python3"
  },
  "language_info": {
   "codemirror_mode": {
    "name": "ipython",
    "version": 3
   },
   "file_extension": ".py",
   "mimetype": "text/x-python",
   "name": "python",
   "nbconvert_exporter": "python",
   "pygments_lexer": "ipython3",
   "version": "3.13.2"
  }
 },
 "nbformat": 4,
 "nbformat_minor": 2
}
